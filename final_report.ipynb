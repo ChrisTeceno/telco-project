{
 "cells": [
  {
   "cell_type": "markdown",
   "metadata": {},
   "source": [
    "**TELCO FINAL REPORT**\n",
    "\n",
    "    The goal of this project is to find drivers of churn and produce prediction models in order to provide actionable data to Telco Management.\n",
    "\n",
    "    The ML models herein are developed using SKLEARN and PANDAS to predict churn.\n",
    "\n",
    "    The final report is assembled in final_report.ipynb.\n",
    "\n",
    "    From past analysis without ML modeling it was discovered there is a high correlation between payment method and churn. This correlation and many others will be tested via the modeling to see if payment type is the best predictor or if other features make for a better model."
   ]
  },
  {
   "cell_type": "code",
   "execution_count": 39,
   "metadata": {},
   "outputs": [],
   "source": [
    "# here I import all relevant modules\n",
    "import warnings\n",
    "warnings.filterwarnings(\"ignore\")\n",
    "import pandas as pd\n",
    "import numpy as np\n",
    "from sklearn.linear_model import LogisticRegression\n",
    "from sklearn.ensemble import RandomForestClassifier\n",
    "from sklearn.tree import DecisionTreeClassifier, plot_tree\n",
    "from sklearn.metrics import classification_report, confusion_matrix, f1_score\n",
    "import matplotlib.pyplot as plt\n",
    "import seaborn as sns\n",
    "import prepare\n",
    "import acquire\n",
    "import scipy.stats as stats\n",
    "from matplotlib import style\n",
    "style.use('ggplot')\n",
    "import itertools"
   ]
  },
  {
   "cell_type": "markdown",
   "metadata": {},
   "source": [
    "**ACQUIRE/PREP.**\n",
    "\n",
    "    It is worth noting that prepare.py relies on acquire.py to pull in the data which it preps. Also of note, prep removes 11 values in which have no total charges, these rows also have 0 tenure months. becuase the number of these rows is so small in comparison and they havent had a chance to churn. I feel comfortable removing them from the dataset."
   ]
  },
  {
   "cell_type": "code",
   "execution_count": 3,
   "metadata": {},
   "outputs": [
    {
     "data": {
      "text/html": [
       "<div>\n",
       "<style scoped>\n",
       "    .dataframe tbody tr th:only-of-type {\n",
       "        vertical-align: middle;\n",
       "    }\n",
       "\n",
       "    .dataframe tbody tr th {\n",
       "        vertical-align: top;\n",
       "    }\n",
       "\n",
       "    .dataframe thead th {\n",
       "        text-align: right;\n",
       "    }\n",
       "</style>\n",
       "<table border=\"1\" class=\"dataframe\">\n",
       "  <thead>\n",
       "    <tr style=\"text-align: right;\">\n",
       "      <th></th>\n",
       "      <th>is_female</th>\n",
       "      <th>senior_citizen</th>\n",
       "      <th>partner</th>\n",
       "      <th>dependents</th>\n",
       "      <th>tenure</th>\n",
       "      <th>phone_service</th>\n",
       "      <th>multiple_lines</th>\n",
       "      <th>online_security</th>\n",
       "      <th>online_backup</th>\n",
       "      <th>device_protection</th>\n",
       "      <th>...</th>\n",
       "      <th>contract_type_Month-to-month</th>\n",
       "      <th>contract_type_One year</th>\n",
       "      <th>contract_type_Two year</th>\n",
       "      <th>internet_service_type_DSL</th>\n",
       "      <th>internet_service_type_Fiber optic</th>\n",
       "      <th>internet_service_type_None</th>\n",
       "      <th>payment_type_Bank transfer (automatic)</th>\n",
       "      <th>payment_type_Credit card (automatic)</th>\n",
       "      <th>payment_type_Electronic check</th>\n",
       "      <th>payment_type_Mailed check</th>\n",
       "    </tr>\n",
       "  </thead>\n",
       "  <tbody>\n",
       "    <tr>\n",
       "      <th>0</th>\n",
       "      <td>1</td>\n",
       "      <td>0</td>\n",
       "      <td>1</td>\n",
       "      <td>1</td>\n",
       "      <td>9</td>\n",
       "      <td>1</td>\n",
       "      <td>0</td>\n",
       "      <td>0</td>\n",
       "      <td>1</td>\n",
       "      <td>0</td>\n",
       "      <td>...</td>\n",
       "      <td>0</td>\n",
       "      <td>1</td>\n",
       "      <td>0</td>\n",
       "      <td>1</td>\n",
       "      <td>0</td>\n",
       "      <td>0</td>\n",
       "      <td>0</td>\n",
       "      <td>0</td>\n",
       "      <td>0</td>\n",
       "      <td>1</td>\n",
       "    </tr>\n",
       "    <tr>\n",
       "      <th>1</th>\n",
       "      <td>0</td>\n",
       "      <td>0</td>\n",
       "      <td>0</td>\n",
       "      <td>0</td>\n",
       "      <td>9</td>\n",
       "      <td>1</td>\n",
       "      <td>1</td>\n",
       "      <td>0</td>\n",
       "      <td>0</td>\n",
       "      <td>0</td>\n",
       "      <td>...</td>\n",
       "      <td>1</td>\n",
       "      <td>0</td>\n",
       "      <td>0</td>\n",
       "      <td>1</td>\n",
       "      <td>0</td>\n",
       "      <td>0</td>\n",
       "      <td>0</td>\n",
       "      <td>0</td>\n",
       "      <td>0</td>\n",
       "      <td>1</td>\n",
       "    </tr>\n",
       "    <tr>\n",
       "      <th>2</th>\n",
       "      <td>0</td>\n",
       "      <td>0</td>\n",
       "      <td>0</td>\n",
       "      <td>0</td>\n",
       "      <td>4</td>\n",
       "      <td>1</td>\n",
       "      <td>0</td>\n",
       "      <td>0</td>\n",
       "      <td>0</td>\n",
       "      <td>1</td>\n",
       "      <td>...</td>\n",
       "      <td>1</td>\n",
       "      <td>0</td>\n",
       "      <td>0</td>\n",
       "      <td>0</td>\n",
       "      <td>1</td>\n",
       "      <td>0</td>\n",
       "      <td>0</td>\n",
       "      <td>0</td>\n",
       "      <td>1</td>\n",
       "      <td>0</td>\n",
       "    </tr>\n",
       "  </tbody>\n",
       "</table>\n",
       "<p>3 rows × 28 columns</p>\n",
       "</div>"
      ],
      "text/plain": [
       "   is_female  senior_citizen  partner  dependents  tenure  phone_service  \\\n",
       "0          1               0        1           1       9              1   \n",
       "1          0               0        0           0       9              1   \n",
       "2          0               0        0           0       4              1   \n",
       "\n",
       "   multiple_lines  online_security  online_backup  device_protection  ...  \\\n",
       "0               0                0              1                  0  ...   \n",
       "1               1                0              0                  0  ...   \n",
       "2               0                0              0                  1  ...   \n",
       "\n",
       "   contract_type_Month-to-month  contract_type_One year  \\\n",
       "0                             0                       1   \n",
       "1                             1                       0   \n",
       "2                             1                       0   \n",
       "\n",
       "   contract_type_Two year  internet_service_type_DSL  \\\n",
       "0                       0                          1   \n",
       "1                       0                          1   \n",
       "2                       0                          0   \n",
       "\n",
       "   internet_service_type_Fiber optic  internet_service_type_None  \\\n",
       "0                                  0                           0   \n",
       "1                                  0                           0   \n",
       "2                                  1                           0   \n",
       "\n",
       "   payment_type_Bank transfer (automatic)  \\\n",
       "0                                       0   \n",
       "1                                       0   \n",
       "2                                       0   \n",
       "\n",
       "   payment_type_Credit card (automatic)  payment_type_Electronic check  \\\n",
       "0                                     0                              0   \n",
       "1                                     0                              0   \n",
       "2                                     0                              1   \n",
       "\n",
       "   payment_type_Mailed check  \n",
       "0                          1  \n",
       "1                          1  \n",
       "2                          0  \n",
       "\n",
       "[3 rows x 28 columns]"
      ]
     },
     "execution_count": 3,
     "metadata": {},
     "output_type": "execute_result"
    }
   ],
   "source": [
    "# this function call acquires and preps in one motion, worth noting that \n",
    "# acquire.get_telco_data() is called within prepare.prep_telco() and will save a .csv of the \n",
    "# raw data\n",
    "telco = prepare.prep_telco()\n",
    "#look at the data\n",
    "telco.head(3)"
   ]
  },
  {
   "cell_type": "markdown",
   "metadata": {},
   "source": [
    "**Prep additional info**\n",
    "\n",
    "    in the prepare.py module, prep_telco() adds an autopay column, 1 has autopay, 0 does not, it then drops: \"payment_type_id\", \"internet_service_type_id\",     \"contract_type_id\",\"customer_id\". \n",
    "    \"total charges is converted from string to float, 'no's become 0's 'yes' become 1, 'female' become 1 and 'male' 0\n",
    "    and a few dummy columns are made, drop_first=False in order to preserve human readability but could easily be set to True to assist the ML models"
   ]
  },
  {
   "cell_type": "markdown",
   "metadata": {},
   "source": [
    "**EXPLORE**\n",
    "\n",
    "    Below you will see some statistical analysis, some visualizations and correlation between churn and all features\n",
    "    \"Who churns and why?\""
   ]
  },
  {
   "cell_type": "code",
   "execution_count": 5,
   "metadata": {},
   "outputs": [
    {
     "name": "stdout",
     "output_type": "stream",
     "text": [
      "<class 'pandas.core.frame.DataFrame'>\n",
      "Int64Index: 7032 entries, 0 to 7042\n",
      "Data columns (total 28 columns):\n",
      " #   Column                                  Non-Null Count  Dtype  \n",
      "---  ------                                  --------------  -----  \n",
      " 0   is_female                               7032 non-null   int64  \n",
      " 1   senior_citizen                          7032 non-null   int64  \n",
      " 2   partner                                 7032 non-null   int64  \n",
      " 3   dependents                              7032 non-null   int64  \n",
      " 4   tenure                                  7032 non-null   int64  \n",
      " 5   phone_service                           7032 non-null   int64  \n",
      " 6   multiple_lines                          7032 non-null   int64  \n",
      " 7   online_security                         7032 non-null   int64  \n",
      " 8   online_backup                           7032 non-null   int64  \n",
      " 9   device_protection                       7032 non-null   int64  \n",
      " 10  tech_support                            7032 non-null   int64  \n",
      " 11  streaming_tv                            7032 non-null   int64  \n",
      " 12  streaming_movies                        7032 non-null   int64  \n",
      " 13  paperless_billing                       7032 non-null   int64  \n",
      " 14  monthly_charges                         7032 non-null   float64\n",
      " 15  total_charges                           7032 non-null   float64\n",
      " 16  churn                                   7032 non-null   int64  \n",
      " 17  autopay                                 7032 non-null   int64  \n",
      " 18  contract_type_Month-to-month            7032 non-null   uint8  \n",
      " 19  contract_type_One year                  7032 non-null   uint8  \n",
      " 20  contract_type_Two year                  7032 non-null   uint8  \n",
      " 21  internet_service_type_DSL               7032 non-null   uint8  \n",
      " 22  internet_service_type_Fiber optic       7032 non-null   uint8  \n",
      " 23  internet_service_type_None              7032 non-null   uint8  \n",
      " 24  payment_type_Bank transfer (automatic)  7032 non-null   uint8  \n",
      " 25  payment_type_Credit card (automatic)    7032 non-null   uint8  \n",
      " 26  payment_type_Electronic check           7032 non-null   uint8  \n",
      " 27  payment_type_Mailed check               7032 non-null   uint8  \n",
      "dtypes: float64(2), int64(16), uint8(10)\n",
      "memory usage: 1.1 MB\n"
     ]
    }
   ],
   "source": [
    "# get basic info\n",
    "telco.info()"
   ]
  },
  {
   "cell_type": "markdown",
   "metadata": {},
   "source": [
    "Lets split the data to avoid potential overfitting and to reserve some data for validating and testing"
   ]
  },
  {
   "cell_type": "code",
   "execution_count": 6,
   "metadata": {},
   "outputs": [
    {
     "data": {
      "text/html": [
       "<div>\n",
       "<style scoped>\n",
       "    .dataframe tbody tr th:only-of-type {\n",
       "        vertical-align: middle;\n",
       "    }\n",
       "\n",
       "    .dataframe tbody tr th {\n",
       "        vertical-align: top;\n",
       "    }\n",
       "\n",
       "    .dataframe thead th {\n",
       "        text-align: right;\n",
       "    }\n",
       "</style>\n",
       "<table border=\"1\" class=\"dataframe\">\n",
       "  <thead>\n",
       "    <tr style=\"text-align: right;\">\n",
       "      <th></th>\n",
       "      <th>is_female</th>\n",
       "      <th>senior_citizen</th>\n",
       "      <th>partner</th>\n",
       "      <th>dependents</th>\n",
       "      <th>tenure</th>\n",
       "      <th>phone_service</th>\n",
       "      <th>multiple_lines</th>\n",
       "      <th>online_security</th>\n",
       "      <th>online_backup</th>\n",
       "      <th>device_protection</th>\n",
       "      <th>...</th>\n",
       "      <th>contract_type_Month-to-month</th>\n",
       "      <th>contract_type_One year</th>\n",
       "      <th>contract_type_Two year</th>\n",
       "      <th>internet_service_type_DSL</th>\n",
       "      <th>internet_service_type_Fiber optic</th>\n",
       "      <th>internet_service_type_None</th>\n",
       "      <th>payment_type_Bank transfer (automatic)</th>\n",
       "      <th>payment_type_Credit card (automatic)</th>\n",
       "      <th>payment_type_Electronic check</th>\n",
       "      <th>payment_type_Mailed check</th>\n",
       "    </tr>\n",
       "  </thead>\n",
       "  <tbody>\n",
       "    <tr>\n",
       "      <th>1947</th>\n",
       "      <td>1</td>\n",
       "      <td>0</td>\n",
       "      <td>1</td>\n",
       "      <td>1</td>\n",
       "      <td>37</td>\n",
       "      <td>1</td>\n",
       "      <td>1</td>\n",
       "      <td>0</td>\n",
       "      <td>0</td>\n",
       "      <td>0</td>\n",
       "      <td>...</td>\n",
       "      <td>1</td>\n",
       "      <td>0</td>\n",
       "      <td>0</td>\n",
       "      <td>0</td>\n",
       "      <td>1</td>\n",
       "      <td>0</td>\n",
       "      <td>0</td>\n",
       "      <td>0</td>\n",
       "      <td>1</td>\n",
       "      <td>0</td>\n",
       "    </tr>\n",
       "    <tr>\n",
       "      <th>6613</th>\n",
       "      <td>1</td>\n",
       "      <td>0</td>\n",
       "      <td>0</td>\n",
       "      <td>0</td>\n",
       "      <td>69</td>\n",
       "      <td>1</td>\n",
       "      <td>1</td>\n",
       "      <td>0</td>\n",
       "      <td>0</td>\n",
       "      <td>0</td>\n",
       "      <td>...</td>\n",
       "      <td>0</td>\n",
       "      <td>0</td>\n",
       "      <td>1</td>\n",
       "      <td>0</td>\n",
       "      <td>0</td>\n",
       "      <td>1</td>\n",
       "      <td>0</td>\n",
       "      <td>1</td>\n",
       "      <td>0</td>\n",
       "      <td>0</td>\n",
       "    </tr>\n",
       "    <tr>\n",
       "      <th>6256</th>\n",
       "      <td>1</td>\n",
       "      <td>0</td>\n",
       "      <td>0</td>\n",
       "      <td>0</td>\n",
       "      <td>72</td>\n",
       "      <td>1</td>\n",
       "      <td>1</td>\n",
       "      <td>0</td>\n",
       "      <td>1</td>\n",
       "      <td>1</td>\n",
       "      <td>...</td>\n",
       "      <td>0</td>\n",
       "      <td>0</td>\n",
       "      <td>1</td>\n",
       "      <td>0</td>\n",
       "      <td>1</td>\n",
       "      <td>0</td>\n",
       "      <td>1</td>\n",
       "      <td>0</td>\n",
       "      <td>0</td>\n",
       "      <td>0</td>\n",
       "    </tr>\n",
       "  </tbody>\n",
       "</table>\n",
       "<p>3 rows × 27 columns</p>\n",
       "</div>"
      ],
      "text/plain": [
       "      is_female  senior_citizen  partner  dependents  tenure  phone_service  \\\n",
       "1947          1               0        1           1      37              1   \n",
       "6613          1               0        0           0      69              1   \n",
       "6256          1               0        0           0      72              1   \n",
       "\n",
       "      multiple_lines  online_security  online_backup  device_protection  ...  \\\n",
       "1947               1                0              0                  0  ...   \n",
       "6613               1                0              0                  0  ...   \n",
       "6256               1                0              1                  1  ...   \n",
       "\n",
       "      contract_type_Month-to-month  contract_type_One year  \\\n",
       "1947                             1                       0   \n",
       "6613                             0                       0   \n",
       "6256                             0                       0   \n",
       "\n",
       "      contract_type_Two year  internet_service_type_DSL  \\\n",
       "1947                       0                          0   \n",
       "6613                       1                          0   \n",
       "6256                       1                          0   \n",
       "\n",
       "      internet_service_type_Fiber optic  internet_service_type_None  \\\n",
       "1947                                  1                           0   \n",
       "6613                                  0                           1   \n",
       "6256                                  1                           0   \n",
       "\n",
       "      payment_type_Bank transfer (automatic)  \\\n",
       "1947                                       0   \n",
       "6613                                       0   \n",
       "6256                                       1   \n",
       "\n",
       "      payment_type_Credit card (automatic)  payment_type_Electronic check  \\\n",
       "1947                                     0                              1   \n",
       "6613                                     1                              0   \n",
       "6256                                     0                              0   \n",
       "\n",
       "      payment_type_Mailed check  \n",
       "1947                          0  \n",
       "6613                          0  \n",
       "6256                          0  \n",
       "\n",
       "[3 rows x 27 columns]"
      ]
     },
     "execution_count": 6,
     "metadata": {},
     "output_type": "execute_result"
    }
   ],
   "source": [
    "# split the data into train test validate\n",
    "# this uses a function within the prepare.py module\n",
    "x_train, y_train, x_validate, y_validate, x_test, y_test, train, validate, test= prepare.split_data(telco,\"churn\")\n",
    "x_train.head(3)"
   ]
  },
  {
   "cell_type": "code",
   "execution_count": 8,
   "metadata": {},
   "outputs": [
    {
     "data": {
      "text/html": [
       "<div>\n",
       "<style scoped>\n",
       "    .dataframe tbody tr th:only-of-type {\n",
       "        vertical-align: middle;\n",
       "    }\n",
       "\n",
       "    .dataframe tbody tr th {\n",
       "        vertical-align: top;\n",
       "    }\n",
       "\n",
       "    .dataframe thead th {\n",
       "        text-align: right;\n",
       "    }\n",
       "</style>\n",
       "<table border=\"1\" class=\"dataframe\">\n",
       "  <thead>\n",
       "    <tr style=\"text-align: right;\">\n",
       "      <th></th>\n",
       "      <th>feature</th>\n",
       "      <th>corr_value</th>\n",
       "    </tr>\n",
       "  </thead>\n",
       "  <tbody>\n",
       "    <tr>\n",
       "      <th>17</th>\n",
       "      <td>contract_type_Month-to-month</td>\n",
       "      <td>0.407846</td>\n",
       "    </tr>\n",
       "    <tr>\n",
       "      <th>4</th>\n",
       "      <td>tenure</td>\n",
       "      <td>0.360733</td>\n",
       "    </tr>\n",
       "    <tr>\n",
       "      <th>25</th>\n",
       "      <td>payment_type_Electronic check</td>\n",
       "      <td>0.327841</td>\n",
       "    </tr>\n",
       "    <tr>\n",
       "      <th>21</th>\n",
       "      <td>internet_service_type_Fiber optic</td>\n",
       "      <td>0.309845</td>\n",
       "    </tr>\n",
       "    <tr>\n",
       "      <th>19</th>\n",
       "      <td>contract_type_Two year</td>\n",
       "      <td>0.300538</td>\n",
       "    </tr>\n",
       "    <tr>\n",
       "      <th>16</th>\n",
       "      <td>autopay</td>\n",
       "      <td>0.235577</td>\n",
       "    </tr>\n",
       "    <tr>\n",
       "      <th>22</th>\n",
       "      <td>internet_service_type_None</td>\n",
       "      <td>0.230359</td>\n",
       "    </tr>\n",
       "    <tr>\n",
       "      <th>15</th>\n",
       "      <td>total_charges</td>\n",
       "      <td>0.205416</td>\n",
       "    </tr>\n",
       "    <tr>\n",
       "      <th>14</th>\n",
       "      <td>monthly_charges</td>\n",
       "      <td>0.197832</td>\n",
       "    </tr>\n",
       "    <tr>\n",
       "      <th>18</th>\n",
       "      <td>contract_type_One year</td>\n",
       "      <td>0.184594</td>\n",
       "    </tr>\n",
       "  </tbody>\n",
       "</table>\n",
       "</div>"
      ],
      "text/plain": [
       "                              feature  corr_value\n",
       "17       contract_type_Month-to-month    0.407846\n",
       "4                              tenure    0.360733\n",
       "25      payment_type_Electronic check    0.327841\n",
       "21  internet_service_type_Fiber optic    0.309845\n",
       "19             contract_type_Two year    0.300538\n",
       "16                            autopay    0.235577\n",
       "22         internet_service_type_None    0.230359\n",
       "15                      total_charges    0.205416\n",
       "14                    monthly_charges    0.197832\n",
       "18             contract_type_One year    0.184594"
      ]
     },
     "execution_count": 8,
     "metadata": {},
     "output_type": "execute_result"
    }
   ],
   "source": [
    "#quick glance at correlations storing all and displaying the top ten\n",
    "#absolute value to show strength wether positive or negative, all of x_train correlated with 'churn'\n",
    "correlations = pd.DataFrame(abs(x_train.corrwith(train.churn))).reset_index()\n",
    "#reset column names to make it more readable\n",
    "correlations = correlations.rename(columns={'index': 'feature',0:\"corr_value\"})\n",
    "#sort by value from highest to lowest, and display the top ten\n",
    "correlations.sort_values('corr_value',ascending=False).head(10)"
   ]
  },
  {
   "cell_type": "markdown",
   "metadata": {},
   "source": [
    "**Question 1**\n",
    "    \n",
    "    Does the month to month contract type affect churn?\n",
    "    \n",
    "Lets test this hypothesis\n",
    "\n",
    "$H_0$ : There is no association between month to month contract and churn\n",
    "\n",
    "$H_A$ : There is a association between month to month contract and churn"
   ]
  },
  {
   "cell_type": "code",
   "execution_count": 9,
   "metadata": {},
   "outputs": [
    {
     "name": "stdout",
     "output_type": "stream",
     "text": [
      "Observed\n",
      "[[1642  114]\n",
      " [1249  932]]\n",
      "---\n",
      "Expected\n",
      "[[1289  466]\n",
      " [1601  579]]\n",
      "---\n",
      "chi^2 = 653.0183\n",
      "p     = 0.0000\n",
      "fail to reject null\n"
     ]
    }
   ],
   "source": [
    "#make a cross tab\n",
    "m_2_m_churn_cross = pd.crosstab(train['contract_type_Month-to-month'],train['churn'])\n",
    "#check chi2 \n",
    "chi2, p, degf, expected = stats.chi2_contingency(m_2_m_churn_cross)\n",
    "#print results\n",
    "print('Observed')\n",
    "print(m_2_m_churn_cross.values)\n",
    "print('---\\nExpected')\n",
    "print(expected.astype(int))\n",
    "print('---')\n",
    "print(f'chi^2 = {chi2:.4f}')\n",
    "print(f'p     = {p:.4f}')\n",
    "print('fail to reject null')"
   ]
  },
  {
   "cell_type": "markdown",
   "metadata": {},
   "source": [
    "~~$H_0$ : There is no association between month to month contract and churn~~\n",
    "\n",
    "**$H_A$ : There is an association between month to month contract and churn**\n",
    "\n",
    "The p value is very low, assume a confidence interval of .95 or even .999, the p is so low its effectively zero, therefore the likelyhood of this correlation beign chance is null. \n",
    "There is a high level of certainty that the two are associated\n",
    "\n",
    "**Month to Month contract type effects churn**"
   ]
  },
  {
   "cell_type": "code",
   "execution_count": 10,
   "metadata": {},
   "outputs": [
    {
     "name": "stdout",
     "output_type": "stream",
     "text": [
      "Average churn is: 0.27\n",
      "Month to month churn is 0.43\n"
     ]
    }
   ],
   "source": [
    "# calc average churn for all of train\n",
    "average_churn = train.churn\n",
    "# calc average churn for subset with month to month contracts\n",
    "month_to_month_churn = train[train['contract_type_Month-to-month']==1].churn\n",
    "print(f'Average churn is: {average_churn.mean():.2f}\\nMonth to month churn is {month_to_month_churn.mean():.2f}')"
   ]
  },
  {
   "cell_type": "markdown",
   "metadata": {},
   "source": [
    "**Question 2**\n",
    "    \n",
    "    Does the amount of monthly charges affect churn? (do people with higher monthly charges churn more?)\n",
    "\n",
    "$H_0$ : There is not a linear correlation between monthly charges and churn\n",
    "\n",
    "$H_A$ : There is a linear correlation between monthly charges and churn"
   ]
  },
  {
   "cell_type": "code",
   "execution_count": 11,
   "metadata": {},
   "outputs": [
    {
     "data": {
      "text/plain": [
       "[Text(0.5, 1.0, 'Monthly Charges vs. Churn')]"
      ]
     },
     "execution_count": 11,
     "metadata": {},
     "output_type": "execute_result"
    },
    {
     "data": {
      "image/png": "[encoded data removed]",
      "text/plain": [
       "<Figure size 432x288 with 1 Axes>"
      ]
     },
     "metadata": {},
     "output_type": "display_data"
    }
   ],
   "source": [
    "#quick graph to show the relation\n",
    "p = sns.regplot(data = train, x = 'monthly_charges', y = 'churn', line_kws={\"color\": \"blue\"})\n",
    "p.set(title='Monthly Charges vs. Churn')\n"
   ]
  },
  {
   "cell_type": "code",
   "execution_count": 12,
   "metadata": {},
   "outputs": [
    {
     "data": {
      "text/plain": [
       "(0.19783208219099263, 2.457056647107511e-36)"
      ]
     },
     "execution_count": 12,
     "metadata": {},
     "output_type": "execute_result"
    }
   ],
   "source": [
    "#stats to show and test the hypothesis\n",
    "r, p = stats.pearsonr(train.monthly_charges, train.churn)\n",
    "r, p/2\n",
    "# $H_0$ : There is not a linear correlation between monthly charges and churn\n",
    "# $H_A$ : There is a linear correlation between monthly charges and churn\n",
    "# There is a linear correlation between monthly charges and churn"
   ]
  },
  {
   "cell_type": "markdown",
   "metadata": {},
   "source": [
    "~~$H_0$ : There is not a linear correlation between monthly charges and churn~~\n",
    "\n",
    "**$H_A$ : There is a linear correlation between monthly charges and churn**\n",
    "\n",
    "In other words, those with higher monthly charges are more likely to churn"
   ]
  },
  {
   "cell_type": "markdown",
   "metadata": {},
   "source": [
    "**Question 3**\n",
    "\n",
    "    When does churn most occur? Low tenure? high tenure?"
   ]
  },
  {
   "cell_type": "code",
   "execution_count": 13,
   "metadata": {},
   "outputs": [
    {
     "data": {
      "text/plain": [
       "[Text(0.5, 1.0, 'Tenure vs. Churn')]"
      ]
     },
     "execution_count": 13,
     "metadata": {},
     "output_type": "execute_result"
    },
    {
     "data": {
      "image/png": "[encoded data removed]",
      "text/plain": [
       "<Figure size 1440x720 with 1 Axes>"
      ]
     },
     "metadata": {},
     "output_type": "display_data"
    }
   ],
   "source": [
    "#make it large to see more easily\n",
    "plt.figure(figsize=[20,10])\n",
    "#pull the relevant columns, group by tenure month, and count number of people churned by month\n",
    "subset =train[['churn','tenure']].groupby(['tenure']).sum().reset_index()\n",
    "#give seaborn the data for a lineplot\n",
    "p = sns.lineplot(data= subset, x = 'tenure', y = 'churn')\n",
    "p.set(title='Tenure vs. Churn')"
   ]
  },
  {
   "cell_type": "markdown",
   "metadata": {},
   "source": [
    "The majority of customer churn very early, it gets more steady after about month 7. Worth noting 50% of costumer who churn, do so before month 11"
   ]
  },
  {
   "cell_type": "markdown",
   "metadata": {},
   "source": [
    "We can also look at each month and see which percent of customer churned for that month."
   ]
  },
  {
   "cell_type": "code",
   "execution_count": 14,
   "metadata": {},
   "outputs": [
    {
     "data": {
      "text/plain": [
       "[Text(0.5, 1.0, 'Tenure vs. %Churn')]"
      ]
     },
     "execution_count": 14,
     "metadata": {},
     "output_type": "execute_result"
    },
    {
     "data": {
      "image/png": "[encoded data removed]",
      "text/plain": [
       "<Figure size 1440x720 with 1 Axes>"
      ]
     },
     "metadata": {},
     "output_type": "display_data"
    }
   ],
   "source": [
    "plt.figure(figsize=[20,10])\n",
    "#similar to about but get the mean instead of sum to show % of those who churned that month\n",
    "subset =train[['churn','tenure']].groupby(['tenure']).mean().reset_index()\n",
    "#y = train[['churn','tenure']].groupby(['tenure']).sum().index.tolist()\n",
    "p = sns.lineplot(data= subset, x = 'tenure', y = 'churn')\n",
    "p.set(title='Tenure vs. %Churn')"
   ]
  },
  {
   "cell_type": "markdown",
   "metadata": {},
   "source": [
    "As you can see our focus is probably better spent looking at people with short tenure. In my telco_work.ipynb I explored the full dataset more and found much more useful data in the short tenure subset. \n"
   ]
  },
  {
   "cell_type": "markdown",
   "metadata": {},
   "source": [
    "**Question 4**\n",
    "\n",
    "    How early do see 50% of churn occur?"
   ]
  },
  {
   "cell_type": "code",
   "execution_count": 15,
   "metadata": {},
   "outputs": [
    {
     "name": "stdout",
     "output_type": "stream",
     "text": [
      "0 customers have churned before month 1\n",
      "that is 0.00% of total churn\n",
      "204 customers have churned before month 2\n",
      "that is 19.50% of total churn\n",
      "276 customers have churned before month 3\n",
      "that is 26.39% of total churn\n",
      "334 customers have churned before month 4\n",
      "that is 31.93% of total churn\n",
      "382 customers have churned before month 5\n",
      "that is 36.52% of total churn\n",
      "417 customers have churned before month 6\n",
      "that is 39.87% of total churn\n",
      "439 customers have churned before month 7\n",
      "that is 41.97% of total churn\n",
      "470 customers have churned before month 8\n",
      "that is 44.93% of total churn\n",
      "496 customers have churned before month 9\n",
      "that is 47.42% of total churn\n",
      "523 customers have churned before month 10\n",
      "that is 50.00% of total churn\n",
      "547 customers have churned before month 11\n",
      "that is 52.29% of total churn\n",
      "569 customers have churned before month 12\n",
      "that is 54.40% of total churn\n"
     ]
    }
   ],
   "source": [
    "# calculate total number of churn\n",
    "total_churn = train.churn.sum()\n",
    "# lets look at the first year\n",
    "for month in range(12):\n",
    "    #keep a count of churn\n",
    "    churn_so_far = train[train.tenure<=month].churn.sum()\n",
    "    #calculate percent\n",
    "    percent_of_churn = (churn_so_far/total_churn)*100\n",
    "    # print results\n",
    "    print(f'{churn_so_far} customers have churned before month {month+1}')\n",
    "    print(f'that is {percent_of_churn:.2f}% of total churn')"
   ]
  },
  {
   "cell_type": "markdown",
   "metadata": {},
   "source": [
    "%50 of churn is before month 10"
   ]
  },
  {
   "cell_type": "markdown",
   "metadata": {},
   "source": [
    "**We will now focus on tenure of less than 11 months or (tenure <= 10)**"
   ]
  },
  {
   "cell_type": "code",
   "execution_count": 16,
   "metadata": {},
   "outputs": [
    {
     "data": {
      "text/plain": [
       "['internet_service_type_Fiber optic',\n",
       " 'monthly_charges',\n",
       " 'internet_service_type_None',\n",
       " 'payment_type_Mailed check',\n",
       " 'payment_type_Electronic check',\n",
       " 'paperless_billing',\n",
       " 'contract_type_Month-to-month',\n",
       " 'multiple_lines',\n",
       " 'streaming_movies',\n",
       " 'streaming_tv']"
      ]
     },
     "execution_count": 16,
     "metadata": {},
     "output_type": "execute_result"
    }
   ],
   "source": [
    "# split the data into train test validate for telco where tenure < 11\n",
    "short_x_train, short_y_train, short_x_validate, short_y_validate, short_x_test, short_y_test, short_train, short_validate, test= prepare.split_data(telco[telco.tenure<11],\"churn\")\n",
    "# get a new list of top features\n",
    "short_top_features = abs(short_x_train.corrwith(short_train.churn)).sort_values(ascending=False).nlargest(n=10).index.tolist()\n",
    "short_top_features"
   ]
  },
  {
   "cell_type": "markdown",
   "metadata": {},
   "source": [
    "Now we have a short tenure subset split for train test validate"
   ]
  },
  {
   "cell_type": "markdown",
   "metadata": {},
   "source": [
    "Lets look at one actionable driver of churn, Monthly Charges"
   ]
  },
  {
   "cell_type": "code",
   "execution_count": 18,
   "metadata": {},
   "outputs": [
    {
     "data": {
      "text/plain": [
       "[Text(0.5, 1.0, 'Monthly Charges vs. churn')]"
      ]
     },
     "execution_count": 18,
     "metadata": {},
     "output_type": "execute_result"
    },
    {
     "data": {
      "image/png": "[encoded data removed]",
      "text/plain": [
       "<Figure size 1440x720 with 1 Axes>"
      ]
     },
     "metadata": {},
     "output_type": "display_data"
    }
   ],
   "source": [
    "#overview of monthly charges and the amount of people churning\n",
    "plt.figure(figsize=[20,10])\n",
    "# using the short tenure subset\n",
    "p= sns.histplot(data=short_train, x = short_train.monthly_charges, hue=\"churn\")\n",
    "p.set(title='Monthly Charges vs. churn')"
   ]
  },
  {
   "cell_type": "markdown",
   "metadata": {},
   "source": [
    "Is there a correlation between churn and Autopay?"
   ]
  },
  {
   "cell_type": "code",
   "execution_count": 21,
   "metadata": {},
   "outputs": [
    {
     "data": {
      "text/plain": [
       "Text(0, 0.5, 'Percent Churned')"
      ]
     },
     "execution_count": 21,
     "metadata": {},
     "output_type": "execute_result"
    },
    {
     "data": {
      "image/png": "[encoded data removed]",
      "text/plain": [
       "<Figure size 1440x720 with 1 Axes>"
      ]
     },
     "metadata": {},
     "output_type": "display_data"
    }
   ],
   "source": [
    "plt.figure(figsize=[20,10])\n",
    "first_ten_months = train[train.tenure<11]\n",
    "p= sns.barplot(data=first_ten_months, y = 'churn', x = 'autopay')\n",
    "p.set(title='Autopay vs. churn')\n",
    "p.set_xticklabels(['No Autopay','Autopay'])\n",
    "p.set_xlabel('')\n",
    "p.set_ylabel('Percent Churned')"
   ]
  },
  {
   "cell_type": "markdown",
   "metadata": {},
   "source": [
    "**EXPLORE SUMMARY**\n",
    "\n",
    "1. Short tenure is more relavant than the whole model. This is explored more in my working notebook where I go on to try 1000's of models and do further analysis.\n",
    "\n",
    "2. Autopay and monthly charges affect churn rate.\n",
    "\n",
    "3. 50% of customers churn before the 11th month. Not quite following the pareto principle (80/20 rule). but close enought to borrow the concept."
   ]
  },
  {
   "cell_type": "markdown",
   "metadata": {},
   "source": [
    "**MODELING**\n",
    "\n",
    "    Here I will make some different types of models using the training dataset before evaluating them against each other using the validate dataset"
   ]
  },
  {
   "cell_type": "markdown",
   "metadata": {},
   "source": [
    "Lets get a baseline using mode. AKA if we just assume everyone does what is most common, not churning, how accurate would that model be?"
   ]
  },
  {
   "cell_type": "code",
   "execution_count": 23,
   "metadata": {},
   "outputs": [
    {
     "name": "stdout",
     "output_type": "stream",
     "text": [
      "baseline_accuracy accuracy using mode is: 0.51\n"
     ]
    }
   ],
   "source": [
    "# lets establish a baseline to see if the model is even worth exploring\n",
    "# the mode is the most common value, in this case we will see if its churn(1) or no churn(0)\n",
    "baseline = short_y_train.mode().values[0]\n",
    "baseline\n",
    "#no churn is mode\n",
    "# if we estimate everyone to not churn, we get the below accuracy\n",
    "# therefore we should look for models with a better accuracy 0.73,\n",
    "# it is also worth noting that accuracy is the goal versus precision or recall.\n",
    "# We will not use precision becuase it doesnt factor negative cases\n",
    "# we will not use recall for the similar reason, we dont want to put too much \n",
    "# emphasis on people who wont churn, nor on people who will churn\n",
    "short_baseline_accuracy = (short_y_train == baseline).mean()\n",
    "print( f'baseline_accuracy accuracy using mode is: {short_baseline_accuracy:.02f}')"
   ]
  },
  {
   "cell_type": "markdown",
   "metadata": {},
   "source": [
    "We now have standard of .51 for our models to beat to even be considered."
   ]
  },
  {
   "cell_type": "markdown",
   "metadata": {},
   "source": [
    "We shall evaulate our models based on accuracy because we are concerned with all outcomes, false negatives are potential lost customer, false positives are potenial lost resources."
   ]
  },
  {
   "cell_type": "markdown",
   "metadata": {},
   "source": [
    "Model 1: I will use logistic regression with a variety of feature combinations and solvers, keeping the best model information"
   ]
  },
  {
   "cell_type": "code",
   "execution_count": 24,
   "metadata": {},
   "outputs": [],
   "source": [
    "# repeat the best model search but on a subset of data where tenure <11\n",
    "results7 = pd.DataFrame()\n",
    "# lets look at different solvers instead of c\n",
    "solvers = {'newton-cg', 'lbfgs', 'liblinear', 'sag','saga'}\n",
    "# lets track top features by making an empty array and dummy score\n",
    "# each model will compare to current best and set itself as best if higher\n",
    "best_features =[]\n",
    "best_score = 0\n",
    "#make a list of all combinations of features\n",
    "combinations = []\n",
    "for i in range(1, len(short_top_features)+1):\n",
    "    combinations.extend(list(itertools.combinations(short_top_features,i)))\n",
    "#iterate between 1 and all top features\n",
    "for combination in combinations:\n",
    "    #adjust the c\n",
    "    for solver in solvers:\n",
    "        #build\n",
    "        model = LogisticRegression(random_state=42, solver=solver)\n",
    "        #convert list to array to pass into function\n",
    "        features = np.array(combination)\n",
    "        #fit on the combination determined above\n",
    "        model.fit(short_x_train[features], short_y_train)\n",
    "        #eval\n",
    "        train_accuracy = model.score(short_x_train[features],short_y_train)\n",
    "        validate_accuracy = model.score(short_x_validate[features],short_y_validate)\n",
    "        delta_train_validate = abs(train_accuracy-validate_accuracy)\n",
    "        #build df\n",
    "        stats = pd.Series({\"solver\": solver,\n",
    "            \"number_features\": len(features),\n",
    "            \"train_accuracy\": train_accuracy,\n",
    "            \"validate_accuracy\": validate_accuracy,\n",
    "            \"accuracy_difference\":delta_train_validate})\n",
    "        results7 = pd.concat([results7,stats],axis =1)\n",
    "        # this could be done in the df but its a large output, array of up to len(best_features) strings\n",
    "        # strings could be converted to index values to be more concise\n",
    "        if validate_accuracy > best_score:\n",
    "            #reset best\n",
    "            best_score = validate_accuracy\n",
    "            #save best features\n",
    "            best_features = features\n",
    "\n",
    "# transpose and reset the index to make it cleaner\n",
    "results7 = results7.T.reset_index(drop=True)"
   ]
  },
  {
   "cell_type": "code",
   "execution_count": 25,
   "metadata": {},
   "outputs": [
    {
     "data": {
      "text/plain": [
       "array(['internet_service_type_Fiber optic', 'monthly_charges',\n",
       "       'internet_service_type_None', 'contract_type_Month-to-month',\n",
       "       'multiple_lines', 'streaming_movies', 'streaming_tv'], dtype='<U33')"
      ]
     },
     "execution_count": 25,
     "metadata": {},
     "output_type": "execute_result"
    }
   ],
   "source": [
    "#which feature made the best model\n",
    "best_features"
   ]
  },
  {
   "cell_type": "code",
   "execution_count": 26,
   "metadata": {},
   "outputs": [
    {
     "data": {
      "text/html": [
       "<div>\n",
       "<style scoped>\n",
       "    .dataframe tbody tr th:only-of-type {\n",
       "        vertical-align: middle;\n",
       "    }\n",
       "\n",
       "    .dataframe tbody tr th {\n",
       "        vertical-align: top;\n",
       "    }\n",
       "\n",
       "    .dataframe thead th {\n",
       "        text-align: right;\n",
       "    }\n",
       "</style>\n",
       "<table border=\"1\" class=\"dataframe\">\n",
       "  <thead>\n",
       "    <tr style=\"text-align: right;\">\n",
       "      <th></th>\n",
       "      <th>solver</th>\n",
       "      <th>number_features</th>\n",
       "      <th>train_accuracy</th>\n",
       "      <th>validate_accuracy</th>\n",
       "      <th>accuracy_difference</th>\n",
       "    </tr>\n",
       "  </thead>\n",
       "  <tbody>\n",
       "    <tr>\n",
       "      <th>5063</th>\n",
       "      <td>lbfgs</td>\n",
       "      <td>9</td>\n",
       "      <td>0.714416</td>\n",
       "      <td>0.687898</td>\n",
       "      <td>0.026518</td>\n",
       "    </tr>\n",
       "    <tr>\n",
       "      <th>4343</th>\n",
       "      <td>lbfgs</td>\n",
       "      <td>7</td>\n",
       "      <td>0.712591</td>\n",
       "      <td>0.694268</td>\n",
       "      <td>0.018324</td>\n",
       "    </tr>\n",
       "    <tr>\n",
       "      <th>4341</th>\n",
       "      <td>liblinear</td>\n",
       "      <td>7</td>\n",
       "      <td>0.712591</td>\n",
       "      <td>0.698514</td>\n",
       "      <td>0.014077</td>\n",
       "    </tr>\n",
       "  </tbody>\n",
       "</table>\n",
       "</div>"
      ],
      "text/plain": [
       "         solver number_features train_accuracy validate_accuracy  \\\n",
       "5063      lbfgs               9       0.714416          0.687898   \n",
       "4343      lbfgs               7       0.712591          0.694268   \n",
       "4341  liblinear               7       0.712591          0.698514   \n",
       "\n",
       "     accuracy_difference  \n",
       "5063            0.026518  \n",
       "4343            0.018324  \n",
       "4341            0.014077  "
      ]
     },
     "execution_count": 26,
     "metadata": {},
     "output_type": "execute_result"
    }
   ],
   "source": [
    "#lets look at the top models by train accuracy\n",
    "results7.sort_values(by=['train_accuracy'],ascending = False).head(3)"
   ]
  },
  {
   "cell_type": "code",
   "execution_count": 27,
   "metadata": {},
   "outputs": [
    {
     "data": {
      "text/html": [
       "<div>\n",
       "<style scoped>\n",
       "    .dataframe tbody tr th:only-of-type {\n",
       "        vertical-align: middle;\n",
       "    }\n",
       "\n",
       "    .dataframe tbody tr th {\n",
       "        vertical-align: top;\n",
       "    }\n",
       "\n",
       "    .dataframe thead th {\n",
       "        text-align: right;\n",
       "    }\n",
       "</style>\n",
       "<table border=\"1\" class=\"dataframe\">\n",
       "  <thead>\n",
       "    <tr style=\"text-align: right;\">\n",
       "      <th></th>\n",
       "      <th>solver</th>\n",
       "      <th>number_features</th>\n",
       "      <th>train_accuracy</th>\n",
       "      <th>validate_accuracy</th>\n",
       "      <th>accuracy_difference</th>\n",
       "    </tr>\n",
       "  </thead>\n",
       "  <tbody>\n",
       "    <tr>\n",
       "      <th>4406</th>\n",
       "      <td>liblinear</td>\n",
       "      <td>7</td>\n",
       "      <td>0.70073</td>\n",
       "      <td>0.719745</td>\n",
       "      <td>0.019015</td>\n",
       "    </tr>\n",
       "    <tr>\n",
       "      <th>4405</th>\n",
       "      <td>newton-cg</td>\n",
       "      <td>7</td>\n",
       "      <td>0.70073</td>\n",
       "      <td>0.719745</td>\n",
       "      <td>0.019015</td>\n",
       "    </tr>\n",
       "    <tr>\n",
       "      <th>4408</th>\n",
       "      <td>lbfgs</td>\n",
       "      <td>7</td>\n",
       "      <td>0.70073</td>\n",
       "      <td>0.719745</td>\n",
       "      <td>0.019015</td>\n",
       "    </tr>\n",
       "  </tbody>\n",
       "</table>\n",
       "</div>"
      ],
      "text/plain": [
       "         solver number_features train_accuracy validate_accuracy  \\\n",
       "4406  liblinear               7        0.70073          0.719745   \n",
       "4405  newton-cg               7        0.70073          0.719745   \n",
       "4408      lbfgs               7        0.70073          0.719745   \n",
       "\n",
       "     accuracy_difference  \n",
       "4406            0.019015  \n",
       "4405            0.019015  \n",
       "4408            0.019015  "
      ]
     },
     "execution_count": 27,
     "metadata": {},
     "output_type": "execute_result"
    }
   ],
   "source": [
    "#lets look at the top models by validate accuracy\n",
    "results7.sort_values(by=['validate_accuracy'],ascending = False).head(3)"
   ]
  },
  {
   "cell_type": "markdown",
   "metadata": {},
   "source": [
    "Here I will use random forest modeling modifying depth and minimum leaf size"
   ]
  },
  {
   "cell_type": "code",
   "execution_count": 28,
   "metadata": {},
   "outputs": [],
   "source": [
    "# random forest with short tenure\n",
    "results8 = pd.DataFrame()\n",
    "# for depth from 1 to 20\n",
    "for depth in range(1,21):\n",
    "    # try different number of min samples per leaf\n",
    "    for min_sample_leaf in range(1,5):\n",
    "        #build\n",
    "        model = RandomForestClassifier(random_state=42, min_samples_leaf= min_sample_leaf, max_depth=depth)\n",
    "        #fit\n",
    "        model = model.fit(short_x_train, short_y_train)\n",
    "        #eval\n",
    "        train_accuracy = model.score(short_x_train,short_y_train)\n",
    "        y_predictions = model.predict(short_x_train)\n",
    "        validate_accuracy = model.score(short_x_validate,short_y_validate)\n",
    "        delta_train_validate = abs(train_accuracy-validate_accuracy)\n",
    "        #build df\n",
    "        stats = pd.Series({\"max_depth\": depth,\n",
    "            \"min_samples_leaf\": min_sample_leaf,\n",
    "            \"train_accuracy\": train_accuracy,\n",
    "            \"validate_accuracy\": validate_accuracy,\n",
    "            \"accuracy_difference\":delta_train_validate})\n",
    "        results8 = pd.concat([results8,stats],axis =1)\n",
    "# transpose and reset the index to make it cleaner\n",
    "results8 = results8.T.reset_index(drop=True)"
   ]
  },
  {
   "cell_type": "code",
   "execution_count": 31,
   "metadata": {},
   "outputs": [
    {
     "data": {
      "text/html": [
       "<div>\n",
       "<style scoped>\n",
       "    .dataframe tbody tr th:only-of-type {\n",
       "        vertical-align: middle;\n",
       "    }\n",
       "\n",
       "    .dataframe tbody tr th {\n",
       "        vertical-align: top;\n",
       "    }\n",
       "\n",
       "    .dataframe thead th {\n",
       "        text-align: right;\n",
       "    }\n",
       "</style>\n",
       "<table border=\"1\" class=\"dataframe\">\n",
       "  <thead>\n",
       "    <tr style=\"text-align: right;\">\n",
       "      <th></th>\n",
       "      <th>max_depth</th>\n",
       "      <th>min_samples_leaf</th>\n",
       "      <th>train_accuracy</th>\n",
       "      <th>validate_accuracy</th>\n",
       "      <th>accuracy_difference</th>\n",
       "    </tr>\n",
       "  </thead>\n",
       "  <tbody>\n",
       "    <tr>\n",
       "      <th>56</th>\n",
       "      <td>15.0</td>\n",
       "      <td>1.0</td>\n",
       "      <td>0.993613</td>\n",
       "      <td>0.702760</td>\n",
       "      <td>0.290853</td>\n",
       "    </tr>\n",
       "    <tr>\n",
       "      <th>60</th>\n",
       "      <td>16.0</td>\n",
       "      <td>1.0</td>\n",
       "      <td>0.993613</td>\n",
       "      <td>0.698514</td>\n",
       "      <td>0.295099</td>\n",
       "    </tr>\n",
       "    <tr>\n",
       "      <th>64</th>\n",
       "      <td>17.0</td>\n",
       "      <td>1.0</td>\n",
       "      <td>0.993613</td>\n",
       "      <td>0.681529</td>\n",
       "      <td>0.312084</td>\n",
       "    </tr>\n",
       "  </tbody>\n",
       "</table>\n",
       "</div>"
      ],
      "text/plain": [
       "    max_depth  min_samples_leaf  train_accuracy  validate_accuracy  \\\n",
       "56       15.0               1.0        0.993613           0.702760   \n",
       "60       16.0               1.0        0.993613           0.698514   \n",
       "64       17.0               1.0        0.993613           0.681529   \n",
       "\n",
       "    accuracy_difference  \n",
       "56             0.290853  \n",
       "60             0.295099  \n",
       "64             0.312084  "
      ]
     },
     "execution_count": 31,
     "metadata": {},
     "output_type": "execute_result"
    }
   ],
   "source": [
    "# top three by train_accuracy\n",
    "results8.iloc[results8.train_accuracy.nlargest(n=3).index]\n",
    "# great accuracy on train, likely overfitting"
   ]
  },
  {
   "cell_type": "code",
   "execution_count": 32,
   "metadata": {},
   "outputs": [
    {
     "data": {
      "text/html": [
       "<div>\n",
       "<style scoped>\n",
       "    .dataframe tbody tr th:only-of-type {\n",
       "        vertical-align: middle;\n",
       "    }\n",
       "\n",
       "    .dataframe tbody tr th {\n",
       "        vertical-align: top;\n",
       "    }\n",
       "\n",
       "    .dataframe thead th {\n",
       "        text-align: right;\n",
       "    }\n",
       "</style>\n",
       "<table border=\"1\" class=\"dataframe\">\n",
       "  <thead>\n",
       "    <tr style=\"text-align: right;\">\n",
       "      <th></th>\n",
       "      <th>max_depth</th>\n",
       "      <th>min_samples_leaf</th>\n",
       "      <th>train_accuracy</th>\n",
       "      <th>validate_accuracy</th>\n",
       "      <th>accuracy_difference</th>\n",
       "    </tr>\n",
       "  </thead>\n",
       "  <tbody>\n",
       "    <tr>\n",
       "      <th>30</th>\n",
       "      <td>8.0</td>\n",
       "      <td>3.0</td>\n",
       "      <td>0.802920</td>\n",
       "      <td>0.719745</td>\n",
       "      <td>0.083174</td>\n",
       "    </tr>\n",
       "    <tr>\n",
       "      <th>41</th>\n",
       "      <td>11.0</td>\n",
       "      <td>2.0</td>\n",
       "      <td>0.887774</td>\n",
       "      <td>0.719745</td>\n",
       "      <td>0.168028</td>\n",
       "    </tr>\n",
       "    <tr>\n",
       "      <th>29</th>\n",
       "      <td>8.0</td>\n",
       "      <td>2.0</td>\n",
       "      <td>0.826642</td>\n",
       "      <td>0.715499</td>\n",
       "      <td>0.111143</td>\n",
       "    </tr>\n",
       "  </tbody>\n",
       "</table>\n",
       "</div>"
      ],
      "text/plain": [
       "    max_depth  min_samples_leaf  train_accuracy  validate_accuracy  \\\n",
       "30        8.0               3.0        0.802920           0.719745   \n",
       "41       11.0               2.0        0.887774           0.719745   \n",
       "29        8.0               2.0        0.826642           0.715499   \n",
       "\n",
       "    accuracy_difference  \n",
       "30             0.083174  \n",
       "41             0.168028  \n",
       "29             0.111143  "
      ]
     },
     "execution_count": 32,
     "metadata": {},
     "output_type": "execute_result"
    }
   ],
   "source": [
    "# top three by validate_accuracy\n",
    "results8.iloc[results8.validate_accuracy.nlargest(n=3).index]\n",
    "# decent accuracy on validate, several points higher than baseline"
   ]
  },
  {
   "cell_type": "markdown",
   "metadata": {},
   "source": [
    "Lets combine all the results and pull the top model"
   ]
  },
  {
   "cell_type": "code",
   "execution_count": 35,
   "metadata": {},
   "outputs": [
    {
     "data": {
      "text/html": [
       "<div>\n",
       "<style scoped>\n",
       "    .dataframe tbody tr th:only-of-type {\n",
       "        vertical-align: middle;\n",
       "    }\n",
       "\n",
       "    .dataframe tbody tr th {\n",
       "        vertical-align: top;\n",
       "    }\n",
       "\n",
       "    .dataframe thead th {\n",
       "        text-align: right;\n",
       "    }\n",
       "</style>\n",
       "<table border=\"1\" class=\"dataframe\">\n",
       "  <thead>\n",
       "    <tr style=\"text-align: right;\">\n",
       "      <th></th>\n",
       "      <th>solver</th>\n",
       "      <th>number_features</th>\n",
       "      <th>train_accuracy</th>\n",
       "      <th>validate_accuracy</th>\n",
       "      <th>accuracy_difference</th>\n",
       "    </tr>\n",
       "  </thead>\n",
       "  <tbody>\n",
       "    <tr>\n",
       "      <th>4405</th>\n",
       "      <td>newton-cg</td>\n",
       "      <td>7</td>\n",
       "      <td>0.70073</td>\n",
       "      <td>0.719745</td>\n",
       "      <td>0.019015</td>\n",
       "    </tr>\n",
       "  </tbody>\n",
       "</table>\n",
       "</div>"
      ],
      "text/plain": [
       "         solver number_features train_accuracy validate_accuracy  \\\n",
       "4405  newton-cg               7        0.70073          0.719745   \n",
       "\n",
       "     accuracy_difference  \n",
       "4405            0.019015  "
      ]
     },
     "execution_count": 35,
     "metadata": {},
     "output_type": "execute_result"
    }
   ],
   "source": [
    "#combine all results involving short tenure dataset\n",
    "short_tenure_results = results7.append(results8)\n",
    "#sort by validate accuracy, then accuracy_difference, pull the top model, drop irrelvant columns\n",
    "short_tenure_results.sort_values(by=['validate_accuracy','accuracy_difference'],ascending = [False, True]).head(1).dropna(axis=1)"
   ]
  },
  {
   "cell_type": "code",
   "execution_count": 36,
   "metadata": {},
   "outputs": [
    {
     "data": {
      "text/plain": [
       "baseline_accuracy    0.506387\n",
       "train_accuracy       0.700730\n",
       "validate_accuracy    0.719745\n",
       "test_accuracy        0.693878\n",
       "dtype: float64"
      ]
     },
     "execution_count": 36,
     "metadata": {},
     "output_type": "execute_result"
    }
   ],
   "source": [
    "# recreate the model with same config\n",
    "#best features comes from the results of above testing trying multiple variations of combinations\n",
    "best_features = ['internet_service_type_Fiber optic', 'monthly_charges',\n",
    "       'internet_service_type_None', 'contract_type_Month-to-month',\n",
    "       'multiple_lines', 'streaming_movies', 'streaming_tv']\n",
    "best_model = LogisticRegression(random_state=42, solver= 'newton-cg')        \n",
    "#fit it as before\n",
    "best_model = best_model.fit(short_x_train[best_features], short_y_train)\n",
    "#eval\n",
    "y_predictions = best_model.predict(short_x_train[best_features])\n",
    "train_accuracy = best_model.score(short_x_train[best_features],short_y_train)\n",
    "validate_accuracy = best_model.score(short_x_validate[best_features],short_y_validate)\n",
    "test_accuracy = best_model.score(short_x_test[best_features],short_y_test)\n",
    "#build df\n",
    "stats = pd.Series({\"baseline_accuracy\":short_baseline_accuracy,\n",
    "    \"train_accuracy\": train_accuracy,\n",
    "    \"validate_accuracy\": validate_accuracy,\n",
    "    \"test_accuracy\": test_accuracy})\n",
    "stats"
   ]
  },
  {
   "cell_type": "markdown",
   "metadata": {},
   "source": [
    "The best model for the short tenure subset has an almost 20% increase in accuracy on the test set than baseline, which is great, especially since 50% of all churn occurs in this timeline. This model provides more actionable data for the rest of Telcoco"
   ]
  },
  {
   "cell_type": "markdown",
   "metadata": {},
   "source": [
    "**OUTPUT CSV**\n",
    "\n",
    "    Here is the code for the predictions csv"
   ]
  },
  {
   "cell_type": "code",
   "execution_count": 43,
   "metadata": {},
   "outputs": [],
   "source": [
    "# create predictions for the model's performance on the test set\n",
    "y_pred = best_model.predict(short_x_test[best_features])\n",
    "\n",
    "# establish the probability for those predictions created above and use the value for churn = 1\n",
    "y_pred_proba = best_model.predict_proba(short_x_test[best_features])[:,1]"
   ]
  },
  {
   "cell_type": "code",
   "execution_count": 59,
   "metadata": {},
   "outputs": [
    {
     "data": {
      "text/html": [
       "<div>\n",
       "<style scoped>\n",
       "    .dataframe tbody tr th:only-of-type {\n",
       "        vertical-align: middle;\n",
       "    }\n",
       "\n",
       "    .dataframe tbody tr th {\n",
       "        vertical-align: top;\n",
       "    }\n",
       "\n",
       "    .dataframe thead th {\n",
       "        text-align: right;\n",
       "    }\n",
       "</style>\n",
       "<table border=\"1\" class=\"dataframe\">\n",
       "  <thead>\n",
       "    <tr style=\"text-align: right;\">\n",
       "      <th></th>\n",
       "      <th>churn_probability</th>\n",
       "      <th>churn_prediction</th>\n",
       "    </tr>\n",
       "  </thead>\n",
       "  <tbody>\n",
       "    <tr>\n",
       "      <th>4526</th>\n",
       "      <td>0.722575</td>\n",
       "      <td>1</td>\n",
       "    </tr>\n",
       "    <tr>\n",
       "      <th>2110</th>\n",
       "      <td>0.757981</td>\n",
       "      <td>1</td>\n",
       "    </tr>\n",
       "    <tr>\n",
       "      <th>3810</th>\n",
       "      <td>0.793623</td>\n",
       "      <td>1</td>\n",
       "    </tr>\n",
       "    <tr>\n",
       "      <th>3857</th>\n",
       "      <td>0.409039</td>\n",
       "      <td>0</td>\n",
       "    </tr>\n",
       "    <tr>\n",
       "      <th>6336</th>\n",
       "      <td>0.793045</td>\n",
       "      <td>1</td>\n",
       "    </tr>\n",
       "    <tr>\n",
       "      <th>...</th>\n",
       "      <td>...</td>\n",
       "      <td>...</td>\n",
       "    </tr>\n",
       "    <tr>\n",
       "      <th>2951</th>\n",
       "      <td>0.391742</td>\n",
       "      <td>0</td>\n",
       "    </tr>\n",
       "    <tr>\n",
       "      <th>757</th>\n",
       "      <td>0.067079</td>\n",
       "      <td>0</td>\n",
       "    </tr>\n",
       "    <tr>\n",
       "      <th>281</th>\n",
       "      <td>0.394828</td>\n",
       "      <td>0</td>\n",
       "    </tr>\n",
       "    <tr>\n",
       "      <th>720</th>\n",
       "      <td>0.674030</td>\n",
       "      <td>1</td>\n",
       "    </tr>\n",
       "    <tr>\n",
       "      <th>196</th>\n",
       "      <td>0.228293</td>\n",
       "      <td>0</td>\n",
       "    </tr>\n",
       "  </tbody>\n",
       "</table>\n",
       "<p>392 rows × 2 columns</p>\n",
       "</div>"
      ],
      "text/plain": [
       "      churn_probability  churn_prediction\n",
       "4526           0.722575                 1\n",
       "2110           0.757981                 1\n",
       "3810           0.793623                 1\n",
       "3857           0.409039                 0\n",
       "6336           0.793045                 1\n",
       "...                 ...               ...\n",
       "2951           0.391742                 0\n",
       "757            0.067079                 0\n",
       "281            0.394828                 0\n",
       "720            0.674030                 1\n",
       "196            0.228293                 0\n",
       "\n",
       "[392 rows x 2 columns]"
      ]
     },
     "execution_count": 59,
     "metadata": {},
     "output_type": "execute_result"
    }
   ],
   "source": [
    "#new dataframe from test\n",
    "predictions = test\n",
    "# add the relevant columns\n",
    "predictions['churn_probability'] = y_pred_proba\n",
    "predictions['churn_prediction'] = y_pred\n",
    "#keep those columns and the index\n",
    "predictions = predictions[['churn_probability','churn_prediction']]\n",
    "#take a look\n",
    "predictions\n"
   ]
  },
  {
   "cell_type": "code",
   "execution_count": 60,
   "metadata": {},
   "outputs": [
    {
     "name": "stdout",
     "output_type": "stream",
     "text": [
      "Reading from csv...\n"
     ]
    },
    {
     "data": {
      "text/html": [
       "<div>\n",
       "<style scoped>\n",
       "    .dataframe tbody tr th:only-of-type {\n",
       "        vertical-align: middle;\n",
       "    }\n",
       "\n",
       "    .dataframe tbody tr th {\n",
       "        vertical-align: top;\n",
       "    }\n",
       "\n",
       "    .dataframe thead th {\n",
       "        text-align: right;\n",
       "    }\n",
       "</style>\n",
       "<table border=\"1\" class=\"dataframe\">\n",
       "  <thead>\n",
       "    <tr style=\"text-align: right;\">\n",
       "      <th></th>\n",
       "      <th>churn_probability</th>\n",
       "      <th>churn_prediction</th>\n",
       "    </tr>\n",
       "    <tr>\n",
       "      <th>customer_id</th>\n",
       "      <th></th>\n",
       "      <th></th>\n",
       "    </tr>\n",
       "  </thead>\n",
       "  <tbody>\n",
       "    <tr>\n",
       "      <th>6376-GAHQE</th>\n",
       "      <td>0.722575</td>\n",
       "      <td>1</td>\n",
       "    </tr>\n",
       "    <tr>\n",
       "      <th>3027-ZTDHO</th>\n",
       "      <td>0.757981</td>\n",
       "      <td>1</td>\n",
       "    </tr>\n",
       "    <tr>\n",
       "      <th>5357-TZHPP</th>\n",
       "      <td>0.793623</td>\n",
       "      <td>1</td>\n",
       "    </tr>\n",
       "    <tr>\n",
       "      <th>5424-RLQLC</th>\n",
       "      <td>0.409039</td>\n",
       "      <td>0</td>\n",
       "    </tr>\n",
       "    <tr>\n",
       "      <th>8972-HJWNV</th>\n",
       "      <td>0.793045</td>\n",
       "      <td>1</td>\n",
       "    </tr>\n",
       "    <tr>\n",
       "      <th>...</th>\n",
       "      <td>...</td>\n",
       "      <td>...</td>\n",
       "    </tr>\n",
       "    <tr>\n",
       "      <th>4208-UFFGW</th>\n",
       "      <td>0.391742</td>\n",
       "      <td>0</td>\n",
       "    </tr>\n",
       "    <tr>\n",
       "      <th>1099-GODLO</th>\n",
       "      <td>0.067079</td>\n",
       "      <td>0</td>\n",
       "    </tr>\n",
       "    <tr>\n",
       "      <th>0415-MOSGF</th>\n",
       "      <td>0.394828</td>\n",
       "      <td>0</td>\n",
       "    </tr>\n",
       "    <tr>\n",
       "      <th>1062-LHZOD</th>\n",
       "      <td>0.674030</td>\n",
       "      <td>1</td>\n",
       "    </tr>\n",
       "    <tr>\n",
       "      <th>0310-VQXAM</th>\n",
       "      <td>0.228293</td>\n",
       "      <td>0</td>\n",
       "    </tr>\n",
       "  </tbody>\n",
       "</table>\n",
       "<p>392 rows × 2 columns</p>\n",
       "</div>"
      ],
      "text/plain": [
       "             churn_probability  churn_prediction\n",
       "customer_id                                     \n",
       "6376-GAHQE            0.722575                 1\n",
       "3027-ZTDHO            0.757981                 1\n",
       "5357-TZHPP            0.793623                 1\n",
       "5424-RLQLC            0.409039                 0\n",
       "8972-HJWNV            0.793045                 1\n",
       "...                        ...               ...\n",
       "4208-UFFGW            0.391742                 0\n",
       "1099-GODLO            0.067079                 0\n",
       "0415-MOSGF            0.394828                 0\n",
       "1062-LHZOD            0.674030                 1\n",
       "0310-VQXAM            0.228293                 0\n",
       "\n",
       "[392 rows x 2 columns]"
      ]
     },
     "execution_count": 60,
     "metadata": {},
     "output_type": "execute_result"
    }
   ],
   "source": [
    "# add back in the customer if from the original data matched on index with an inner join\n",
    "predictions = predictions.join(acquire.get_telco_data().customer_id, how=\"inner\")\n",
    "# set index to customer id\n",
    "predictions = predictions.set_index('customer_id')\n",
    "# take a look\n",
    "predictions"
   ]
  },
  {
   "cell_type": "code",
   "execution_count": 62,
   "metadata": {},
   "outputs": [],
   "source": [
    "#save to csv\n",
    "predictions.to_csv('predictions.csv')"
   ]
  },
  {
   "cell_type": "markdown",
   "metadata": {},
   "source": [
    "**CONCLUSION**\n",
    "\n",
    "    1. Most churn happens early\n",
    "    2. Month to month customer churn most, those without autopay churn more than those without\n",
    "    3. Focusing on newer customer is worthwhile because they are most likely to churn\n",
    "    4. Our logistic regresion model should increase prediction of churn by roughly 20%"
   ]
  },
  {
   "cell_type": "markdown",
   "metadata": {},
   "source": [
    "**RECOMMENDATIONS**\n",
    "\n",
    "    1. Offer incentives to switch from month to month to one year or two year contracts\n",
    "    2. Do the same for autopay\n",
    "    3. Provide monthly discounts to those predicted to churn"
   ]
  },
  {
   "cell_type": "markdown",
   "metadata": {},
   "source": [
    "**NEXT STEPS**\n",
    "\n",
    "    1. Get more data from customer. Survey those churning (\"why did you leave? Cost? service? etc?)\n",
    "    2. Run more models, I ran only a few thousand models, with more time I couldnt increase this by a few orders of magnitude"
   ]
  },
  {
   "cell_type": "markdown",
   "metadata": {},
   "source": []
  }
 ],
 "metadata": {
  "interpreter": {
   "hash": "3067ead486e059ec00ffe7555bdb889e6e264a24dc711bf108106cc7baee8d5d"
  },
  "kernelspec": {
   "display_name": "Python 3.9.7 ('base')",
   "language": "python",
   "name": "python3"
  },
  "language_info": {
   "codemirror_mode": {
    "name": "ipython",
    "version": 3
   },
   "file_extension": ".py",
   "mimetype": "text/x-python",
   "name": "python",
   "nbconvert_exporter": "python",
   "pygments_lexer": "ipython3",
   "version": "3.9.7"
  },
  "orig_nbformat": 4
 },
 "nbformat": 4,
 "nbformat_minor": 2
}
